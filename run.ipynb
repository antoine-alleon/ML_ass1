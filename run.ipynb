{
 "cells": [
  {
   "cell_type": "code",
   "execution_count": 1,
   "metadata": {
    "collapsed": true
   },
   "outputs": [],
   "source": [
    "#produces exactly the same .csv predictions which you used in your best submission to the competition on Kaggle"
   ]
  },
  {
   "cell_type": "code",
   "execution_count": 2,
   "metadata": {},
   "outputs": [],
   "source": [
    "#Load the data - uploading the content of the .csv file\n",
    "from loadData import load_data \n",
    "#COMMENTS: \n",
    "#- one can also chose \"*\" to import all the functions in the file. \n",
    "#- loadData has to be a \".py\" file. Jupiter notebook do not work. \n",
    "\n",
    "testData = load_data(\"test.csv\", sub_sample=False, add_outlier=False); \n",
    "trainData = load_data(\"train.csv\", sub_sample=False, add_outlier=False); "
   ]
  },
  {
   "cell_type": "code",
   "execution_count": 3,
   "metadata": {},
   "outputs": [
    {
     "name": "stdout",
     "output_type": "stream",
     "text": [
      "[[  1.00000000e+05              nan   1.38470000e+02 ...,   1.24000000e+00\n",
      "   -2.47500000e+00   1.13497000e+02]\n",
      " [  1.00001000e+05              nan   1.60937000e+02 ...,  -9.99000000e+02\n",
      "   -9.99000000e+02   4.62260000e+01]\n",
      " [  1.00002000e+05              nan  -9.99000000e+02 ...,  -9.99000000e+02\n",
      "   -9.99000000e+02   4.42510000e+01]\n",
      " ..., \n",
      " [  3.49997000e+05              nan   1.05457000e+02 ...,  -9.99000000e+02\n",
      "   -9.99000000e+02   4.19920000e+01]\n",
      " [  3.49998000e+05              nan   9.49510000e+01 ...,  -9.99000000e+02\n",
      "   -9.99000000e+02   0.00000000e+00]\n",
      " [  3.49999000e+05              nan  -9.99000000e+02 ...,  -9.99000000e+02\n",
      "   -9.99000000e+02   0.00000000e+00]]\n"
     ]
    }
   ],
   "source": [
    "print(trainData)"
   ]
  },
  {
   "cell_type": "code",
   "execution_count": null,
   "metadata": {
    "collapsed": true
   },
   "outputs": [],
   "source": []
  },
  {
   "cell_type": "code",
   "execution_count": null,
   "metadata": {
    "collapsed": true
   },
   "outputs": [],
   "source": []
  }
 ],
 "metadata": {
  "kernelspec": {
   "display_name": "Python 3",
   "language": "python",
   "name": "python3"
  },
  "language_info": {
   "codemirror_mode": {
    "name": "ipython",
    "version": 3
   },
   "file_extension": ".py",
   "mimetype": "text/x-python",
   "name": "python",
   "nbconvert_exporter": "python",
   "pygments_lexer": "ipython3",
   "version": "3.6.1"
  }
 },
 "nbformat": 4,
 "nbformat_minor": 2
}
