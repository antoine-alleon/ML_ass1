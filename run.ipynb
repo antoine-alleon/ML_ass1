{
 "cells": [
  {
   "cell_type": "code",
   "execution_count": 1,
   "metadata": {
    "collapsed": true
   },
   "outputs": [],
   "source": [
    "#produces exactly the same .csv predictions which you used in your best submission to the competition on Kaggle"
   ]
  },
  {
   "cell_type": "code",
   "execution_count": 2,
   "metadata": {},
   "outputs": [],
   "source": [
    "#Load the data - uploading the content of the .csv file\n",
    "#from loadData import load_data,format_data,load_data_y,format_data_y\n",
    "import numpy as np\n",
    "from implementations import *\n",
    "#from helpers import *\n",
    "from proj1_helpers import *\n",
    "#COMMENTS: \n",
    "#- one can also chose \"*\" to import all the functions in the file. \n",
    "#- loadData has to be a \".py\" file. Jupiter notebook do not work. \n"
   ]
  },
  {
   "cell_type": "code",
   "execution_count": 3,
   "metadata": {},
   "outputs": [],
   "source": [
    "_,x_test,ids = load_csv_data(\"test.csv\", sub_sample=False); \n",
    "y_train,x_train,_ = load_csv_data(\"train.csv\", sub_sample=False); "
   ]
  },
  {
   "cell_type": "code",
   "execution_count": 4,
   "metadata": {},
   "outputs": [],
   "source": [
    "x_test=standardize(x_test)\n",
    "x_train=standardize(x_train)"
   ]
  },
  {
   "cell_type": "markdown",
   "metadata": {},
   "source": [
    "GD Algorithm"
   ]
  },
  {
   "cell_type": "code",
   "execution_count": 6,
   "metadata": {},
   "outputs": [
    {
     "data": {
      "text/plain": [
       "0.39022448580430724"
      ]
     },
     "execution_count": 6,
     "metadata": {},
     "output_type": "execute_result"
    }
   ],
   "source": [
    "#parameters\n",
    "max_iters = 200\n",
    "gamma = 0.1\n",
    "\n",
    "# Initialization\n",
    "w_initial = np.ones(x_train.shape[1])\n",
    "\n",
    "#apply gradient descent algorithm\n",
    "GD_loss, GD_ws = gradient_descent(y_train, x_train, w_initial, max_iters, gamma)\n",
    "GD_loss\n"
   ]
  },
  {
   "cell_type": "code",
   "execution_count": 7,
   "metadata": {},
   "outputs": [],
   "source": [
    "GD_y = predict_labels(GD_ws,x_test)\n",
    "create_csv_submission(ids,GD_y,\"GD_pred1\")\n",
    "#save_csv(GD_y,\"GD_pred1.csv\")"
   ]
  },
  {
   "cell_type": "code",
   "execution_count": 9,
   "metadata": {},
   "outputs": [
    {
     "data": {
      "text/plain": [
       "array([-1., -1., -1., ...,  1.,  1., -1.])"
      ]
     },
     "execution_count": 9,
     "metadata": {},
     "output_type": "execute_result"
    }
   ],
   "source": [
    "GD_y"
   ]
  },
  {
   "cell_type": "code",
   "execution_count": 6,
   "metadata": {},
   "outputs": [],
   "source": []
  },
  {
   "cell_type": "code",
   "execution_count": 7,
   "metadata": {
    "collapsed": true
   },
   "outputs": [],
   "source": []
  },
  {
   "cell_type": "code",
   "execution_count": null,
   "metadata": {
    "collapsed": true
   },
   "outputs": [],
   "source": []
  }
 ],
 "metadata": {
  "kernelspec": {
   "display_name": "Python 3",
   "language": "python",
   "name": "python3"
  },
  "language_info": {
   "codemirror_mode": {
    "name": "ipython",
    "version": 3
   },
   "file_extension": ".py",
   "mimetype": "text/x-python",
   "name": "python",
   "nbconvert_exporter": "python",
   "pygments_lexer": "ipython3",
   "version": "3.6.1"
  }
 },
 "nbformat": 4,
 "nbformat_minor": 2
}
