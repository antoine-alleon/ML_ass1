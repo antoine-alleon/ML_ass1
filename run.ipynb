{
 "cells": [
  {
   "cell_type": "code",
   "execution_count": 1,
   "metadata": {
    "collapsed": true
   },
   "outputs": [],
   "source": [
    "#produces exactly the same .csv predictions which you used in your best submission to the competition on Kaggle"
   ]
  },
  {
   "cell_type": "code",
   "execution_count": 2,
   "metadata": {
    "collapsed": true
   },
   "outputs": [],
   "source": [
    "#Load the data - uploading the content of the .csv file\n",
    "#from loadData import load_data,format_data,load_data_y,format_data_y\n",
    "import numpy as np\n",
    "from implementations import *\n",
    "#from helpers import *\n",
    "from proj1_helpers import *\n",
    "#COMMENTS: \n",
    "#- one can also chose \"*\" to import all the functions in the file. \n",
    "#- loadData has to be a \".py\" file. Jupiter notebook do not work. \n"
   ]
  },
  {
   "cell_type": "code",
   "execution_count": 3,
   "metadata": {
    "collapsed": true
   },
   "outputs": [],
   "source": [
    "_,x_test,ids = load_csv_data(\"test.csv\", sub_sample=False); \n",
    "y_train,x_train,_ = load_csv_data(\"train.csv\", sub_sample=False); "
   ]
  },
  {
   "cell_type": "code",
   "execution_count": 4,
   "metadata": {
    "collapsed": true
   },
   "outputs": [],
   "source": [
    "x_test=standardize(x_test)\n",
    "x_train=standardize(x_train)"
   ]
  },
  {
   "cell_type": "markdown",
   "metadata": {},
   "source": [
    "GD Algorithm MSE"
   ]
  },
  {
   "cell_type": "code",
   "execution_count": null,
   "metadata": {},
   "outputs": [],
   "source": [
    "#parameters\n",
    "max_iters = 500\n",
    "gamma = 0.12\n",
    "\n",
    "# Initialization\n",
    "w_initial = np.ones(x_train.shape[1])\n",
    "\n",
    "#apply gradient descent algorithm\n",
    "GD_loss, GD_ws = gradient_descent(y_train, x_train, w_initial, max_iters, gamma)\n",
    "GD_loss"
   ]
  },
  {
   "cell_type": "code",
   "execution_count": null,
   "metadata": {
    "collapsed": true
   },
   "outputs": [],
   "source": [
    "GD_y = predict_labels(GD_ws,x_test)\n",
    "create_csv_submission(ids,GD_y,\"GD_predMSE\")\n",
    "#save_csv(GD_y,\"GD_predMSE.csv\")"
   ]
  },
  {
   "cell_type": "code",
   "execution_count": null,
   "metadata": {},
   "outputs": [],
   "source": [
    "GD_y"
   ]
  },
  {
   "cell_type": "markdown",
   "metadata": {},
   "source": [
    "GD Algorithm MAE"
   ]
  },
  {
   "cell_type": "code",
   "execution_count": 5,
   "metadata": {},
   "outputs": [
    {
     "ename": "NotImplementedError",
     "evalue": "",
     "output_type": "error",
     "traceback": [
      "\u001b[0;31m---------------------------------------------------------------------------\u001b[0m",
      "\u001b[0;31mNotImplementedError\u001b[0m                       Traceback (most recent call last)",
      "\u001b[0;32m<ipython-input-5-5bf9a42a221a>\u001b[0m in \u001b[0;36m<module>\u001b[0;34m()\u001b[0m\n\u001b[1;32m      7\u001b[0m \u001b[0;34m\u001b[0m\u001b[0m\n\u001b[1;32m      8\u001b[0m \u001b[0;31m#apply gradient descent algorithm\u001b[0m\u001b[0;34m\u001b[0m\u001b[0;34m\u001b[0m\u001b[0m\n\u001b[0;32m----> 9\u001b[0;31m \u001b[0mGD_loss\u001b[0m\u001b[0;34m,\u001b[0m \u001b[0mGD_ws\u001b[0m \u001b[0;34m=\u001b[0m \u001b[0mgradient_descent\u001b[0m\u001b[0;34m(\u001b[0m\u001b[0my_train\u001b[0m\u001b[0;34m,\u001b[0m \u001b[0mx_train\u001b[0m\u001b[0;34m,\u001b[0m \u001b[0mw_initial\u001b[0m\u001b[0;34m,\u001b[0m \u001b[0mmax_iters\u001b[0m\u001b[0;34m,\u001b[0m \u001b[0mgamma\u001b[0m\u001b[0;34m,\u001b[0m \u001b[0;34m\"MAE\"\u001b[0m\u001b[0;34m)\u001b[0m\u001b[0;34m\u001b[0m\u001b[0m\n\u001b[0m\u001b[1;32m     10\u001b[0m \u001b[0mGD_loss\u001b[0m\u001b[0;34m\u001b[0m\u001b[0m\n",
      "\u001b[0;32m/Users/davidcleres/ML/ML_ass1/implementations.py\u001b[0m in \u001b[0;36mgradient_descent\u001b[0;34m(y, tx, initial_w, max_iters, gamma, ltype)\u001b[0m\n\u001b[1;32m     42\u001b[0m         \u001b[0mws\u001b[0m \u001b[0;34m=\u001b[0m \u001b[0mws\u001b[0m \u001b[0;34m-\u001b[0m \u001b[0mgamma\u001b[0m\u001b[0;34m*\u001b[0m\u001b[0mgradient\u001b[0m \u001b[0;31m#updates the new weights\u001b[0m\u001b[0;34m\u001b[0m\u001b[0m\n\u001b[1;32m     43\u001b[0m \u001b[0;34m\u001b[0m\u001b[0m\n\u001b[0;32m---> 44\u001b[0;31m     \u001b[0mloss\u001b[0m\u001b[0;34m=\u001b[0m\u001b[0mcompute_loss\u001b[0m\u001b[0;34m(\u001b[0m\u001b[0my\u001b[0m\u001b[0;34m,\u001b[0m\u001b[0mtx\u001b[0m\u001b[0;34m,\u001b[0m\u001b[0mws\u001b[0m\u001b[0;34m,\u001b[0m\u001b[0mltype\u001b[0m\u001b[0;34m)\u001b[0m \u001b[0;31m#compute final error\u001b[0m\u001b[0;34m\u001b[0m\u001b[0m\n\u001b[0m\u001b[1;32m     45\u001b[0m \u001b[0;34m\u001b[0m\u001b[0m\n\u001b[1;32m     46\u001b[0m     \u001b[0;32mreturn\u001b[0m \u001b[0mloss\u001b[0m\u001b[0;34m,\u001b[0m \u001b[0mws\u001b[0m\u001b[0;34m\u001b[0m\u001b[0m\n",
      "\u001b[0;32m/Users/davidcleres/ML/ML_ass1/implementations.py\u001b[0m in \u001b[0;36mcompute_loss\u001b[0;34m(y, tx, w, ltype)\u001b[0m\n\u001b[1;32m     21\u001b[0m     \u001b[0;31m# ***************************************************\u001b[0m\u001b[0;34m\u001b[0m\u001b[0;34m\u001b[0m\u001b[0m\n\u001b[1;32m     22\u001b[0m     \u001b[0;31m# Lost function by MAE\u001b[0m\u001b[0;34m\u001b[0m\u001b[0;34m\u001b[0m\u001b[0m\n\u001b[0;32m---> 23\u001b[0;31m         \u001b[0;32mraise\u001b[0m \u001b[0mNotImplementedError\u001b[0m\u001b[0;34m\u001b[0m\u001b[0m\n\u001b[0m\u001b[1;32m     24\u001b[0m     \u001b[0;32melse\u001b[0m\u001b[0;34m:\u001b[0m\u001b[0;34m\u001b[0m\u001b[0m\n\u001b[1;32m     25\u001b[0m     \u001b[0;31m# ***************************************************\u001b[0m\u001b[0;34m\u001b[0m\u001b[0;34m\u001b[0m\u001b[0m\n",
      "\u001b[0;31mNotImplementedError\u001b[0m: "
     ]
    }
   ],
   "source": [
    "#parameters\n",
    "max_iters = 200\n",
    "gamma = 0.1\n",
    "\n",
    "# Initialization\n",
    "w_initial = np.ones(x_train.shape[1])\n",
    "\n",
    "#apply gradient descent algorithm\n",
    "GD_loss, GD_ws = gradient_descent(y_train, x_train, w_initial, max_iters, gamma, \"MAE\")\n",
    "GD_loss"
   ]
  },
  {
   "cell_type": "code",
   "execution_count": null,
   "metadata": {
    "collapsed": true
   },
   "outputs": [],
   "source": [
    "GD_y = predict_labels(GD_ws,x_test)\n",
    "create_csv_submission(ids,GD_y,\"GD_predMAE\")\n",
    "#save_csv(GD_y,\"GD_predMAE.csv\")"
   ]
  },
  {
   "cell_type": "markdown",
   "metadata": {},
   "source": [
    "SGD MSE "
   ]
  },
  {
   "cell_type": "code",
   "execution_count": null,
   "metadata": {
    "collapsed": true
   },
   "outputs": [],
   "source": [
    "#parameters\n",
    "max_iters = 200\n",
    "gamma = 0.1\n",
    "\n",
    "# Initialization\n",
    "w_initial = np.ones(x_train.shape[1])\n",
    "\n",
    "#apply gradient descent algorithm\n",
    "GD_loss, GD_ws = subgradient_descent(y_train, x_train, w_initial, max_iters, gamma, \"MSE\")\n",
    "GD_loss"
   ]
  },
  {
   "cell_type": "code",
   "execution_count": null,
   "metadata": {
    "collapsed": true
   },
   "outputs": [],
   "source": [
    "GD_y = predict_labels(GD_ws,x_test)\n",
    "create_csv_submission(ids,GD_y,\"GD_predSGD_MSE\")\n",
    "#save_csv(GD_y,\"GD_predSGD_MSE.csv\")"
   ]
  },
  {
   "cell_type": "markdown",
   "metadata": {},
   "source": [
    "SGD MAE"
   ]
  },
  {
   "cell_type": "code",
   "execution_count": null,
   "metadata": {},
   "outputs": [],
   "source": [
    "#parameters\n",
    "max_iters = 200\n",
    "gamma = 0.1\n",
    "\n",
    "# Initialization\n",
    "w_initial = np.ones(x_train.shape[1])\n",
    "\n",
    "#apply gradient descent algorithm\n",
    "GD_loss, GD_ws = subgradient_descent(y_train, x_train, w_initial, max_iters, gamma, \"MSE\")\n",
    "GD_loss"
   ]
  },
  {
   "cell_type": "code",
   "execution_count": null,
   "metadata": {
    "collapsed": true
   },
   "outputs": [],
   "source": [
    "GD_y = predict_labels(GD_ws,x_test)\n",
    "create_csv_submission(ids,GD_y,\"GD_predSGD_MAE\")\n",
    "#save_csv(GD_y,\"GD_predSGD_MSE.csv\")"
   ]
  }
 ],
 "metadata": {
  "kernelspec": {
   "display_name": "Python 3",
   "language": "python",
   "name": "python3"
  },
  "language_info": {
   "codemirror_mode": {
    "name": "ipython",
    "version": 3
   },
   "file_extension": ".py",
   "mimetype": "text/x-python",
   "name": "python",
   "nbconvert_exporter": "python",
   "pygments_lexer": "ipython3",
   "version": "3.6.1"
  }
 },
 "nbformat": 4,
 "nbformat_minor": 2
}
