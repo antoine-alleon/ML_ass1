{
 "cells": [
  {
   "cell_type": "code",
   "execution_count": 1,
   "metadata": {
    "collapsed": true
   },
   "outputs": [],
   "source": [
    "#produces exactly the same .csv predictions which you used in your best submission to the competition on Kaggle"
   ]
  },
  {
   "cell_type": "code",
   "execution_count": 6,
   "metadata": {
    "collapsed": true
   },
   "outputs": [],
   "source": [
    "#Load the data - uploading the content of the .csv file\n",
    "from loadData import load_data \n",
    "#COMMENTS: \n",
    "#- one can also chose \"*\" to import all the functions in the file. \n",
    "#- loadData has to be a \".py\" file. Jupiter notebook do not work. \n",
    "\n",
    "testData = load_data(\"test.csv\", sub_sample=False, add_outlier=False); \n",
    "trainData = load_data(\"train.csv\", sub_sample=False, add_outlier=False); "
   ]
  },
  {
   "cell_type": "code",
   "execution_count": 4,
   "metadata": {},
   "outputs": [
    {
     "data": {
      "text/plain": [
       "array([[  3.50000000e+05,              nan,  -9.99000000e+02, ...,\n",
       "         -9.99000000e+02,  -9.99000000e+02,   0.00000000e+00],\n",
       "       [  3.50001000e+05,              nan,   1.06398000e+02, ...,\n",
       "         -9.99000000e+02,  -9.99000000e+02,   4.75750000e+01],\n",
       "       [  3.50002000e+05,              nan,   1.17794000e+02, ...,\n",
       "         -9.99000000e+02,  -9.99000000e+02,   0.00000000e+00],\n",
       "       ..., \n",
       "       [  9.18235000e+05,              nan,   1.08497000e+02, ...,\n",
       "         -9.99000000e+02,  -9.99000000e+02,   0.00000000e+00],\n",
       "       [  9.18236000e+05,              nan,   9.67110000e+01, ...,\n",
       "         -9.99000000e+02,  -9.99000000e+02,   3.08630000e+01],\n",
       "       [  9.18237000e+05,              nan,   9.23730000e+01, ...,\n",
       "         -9.99000000e+02,  -9.99000000e+02,   0.00000000e+00]])"
      ]
     },
     "execution_count": 4,
     "metadata": {},
     "output_type": "execute_result"
    }
   ],
   "source": [
    "testData"
   ]
  }
 ],
 "metadata": {
  "kernelspec": {
   "display_name": "Python 3",
   "language": "python",
   "name": "python3"
  },
  "language_info": {
   "codemirror_mode": {
    "name": "ipython",
    "version": 3
   },
   "file_extension": ".py",
   "mimetype": "text/x-python",
   "name": "python",
   "nbconvert_exporter": "python",
   "pygments_lexer": "ipython3",
   "version": "3.6.1"
  }
 },
 "nbformat": 4,
 "nbformat_minor": 2
}
