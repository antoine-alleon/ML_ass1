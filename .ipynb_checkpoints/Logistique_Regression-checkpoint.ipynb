{
 "cells": [
  {
   "cell_type": "code",
   "execution_count": 1,
   "metadata": {
    "collapsed": true
   },
   "outputs": [],
   "source": [
    "# Useful starting lines\n",
    "%matplotlib inline\n",
    "import numpy as np\n",
    "import matplotlib.pyplot as plt\n",
    "%load_ext autoreload\n",
    "%autoreload 2"
   ]
  },
  {
   "cell_type": "code",
   "execution_count": 2,
   "metadata": {
    "collapsed": true
   },
   "outputs": [],
   "source": [
    "def sigmoid(t): #So we want to return a value between 0 and 1 to make sure we are actually representing a probability. To do this we will make use of the logistic function.\n",
    "    return 1.0 / (1 + np.exp(-t))"
   ]
  },
  {
   "cell_type": "code",
   "execution_count": 8,
   "metadata": {
    "collapsed": true
   },
   "outputs": [],
   "source": [
    "def calculate_loss(y, tx, w):  # the goal is to compute the cost with the technique of log likelohood (negative)\n",
    "    fontion = sigmoid(np.dot(tx,w))\n",
    "    y_T=y.T\n",
    "    loss = np.dot(y_T, np.log(fonction)) + np.dot((1 - y).T, np.log(1 - fonc))\n",
    "    return np.squeeze(- loss)  #squeeze Remove single-dimensional entries from the shape of an array"
   ]
  },
  {
   "cell_type": "code",
   "execution_count": 10,
   "metadata": {
    "collapsed": true
   },
   "outputs": [],
   "source": [
    "def calculate_gradient(y, tx, w): # the goal is to calculate the gradient of losses\n",
    "    fonction = sigmoid(dot(tx,w))\n",
    "    gradient = dot(tx.T, fonction - y)\n",
    "    return gradient"
   ]
  },
  {
   "cell_type": "code",
   "execution_count": 2,
   "metadata": {
    "collapsed": true
   },
   "outputs": [],
   "source": [
    "def learning_by_gradient_descent(y, tx, w, gamma): #the goal is to compute of step of the gradient descent method using logistic regression\n",
    "    gradient = calculate_gradient(y, tx, w)\n",
    "    w = w-gamma*gradient\n",
    "    loss = calculate_loss(y, tx, w)\n",
    "    return w, loss"
   ]
  },
  {
   "cell_type": "code",
   "execution_count": 3,
   "metadata": {
    "collapsed": true
   },
   "outputs": [],
   "source": [
    "def logistic_regression(y, tx, w): #the goal is to calculate the loss and the gradient thanks to fonction above\n",
    "    loss = calculate_loss(y, tx, w)\n",
    "    gradient = calculate_gradient(y, tx, w)\n",
    "    return loss, gradient"
   ]
  },
  {
   "cell_type": "code",
   "execution_count": 6,
   "metadata": {
    "collapsed": true
   },
   "outputs": [],
   "source": [
    "def regularized_logistic_regression(y, tx, w, lambda_): \n",
    "    samples = y.shape[0]\n",
    "    loss = calculate_loss(y, tx, w) + lambda_ * np.squeeze(dot(w.T,w))\n",
    "    gradient = calculate_gradient(y, tx, w) + 2 * lambda_ * w\n",
    "    return loss, gradient"
   ]
  },
  {
   "cell_type": "code",
   "execution_count": 7,
   "metadata": {
    "collapsed": true
   },
   "outputs": [],
   "source": [
    "def learning_by_regularized_gradient(y, tx, w, gamma, lambda_):\n",
    "    loss, gradient = penalized_logistic_regression(y, tx, w, lambda_)\n",
    "    w -= gamma * gradient\n",
    "    return loss, w"
   ]
  }
 ],
 "metadata": {
  "kernelspec": {
   "display_name": "Python 3",
   "language": "python",
   "name": "python3"
  },
  "language_info": {
   "codemirror_mode": {
    "name": "ipython",
    "version": 3
   },
   "file_extension": ".py",
   "mimetype": "text/x-python",
   "name": "python",
   "nbconvert_exporter": "python",
   "pygments_lexer": "ipython3",
   "version": "3.6.1"
  }
 },
 "nbformat": 4,
 "nbformat_minor": 2
}
